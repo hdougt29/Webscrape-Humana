{
  "nbformat": 4,
  "nbformat_minor": 0,
  "metadata": {
    "colab": {
      "provenance": []
    },
    "kernelspec": {
      "name": "python3",
      "display_name": "Python 3"
    },
    "language_info": {
      "name": "python"
    }
  },
  "cells": [
    {
      "cell_type": "code",
      "source": [
        "import requests\n",
        "from bs4 import BeautifulSoup\n",
        "\n",
        "# Set the base URL of the website you want to scrape\n",
        "base_url = \"https://www.consumeraffairs.com/insurance/humana.html\"\n",
        "\n",
        "# Set the range of pages you want to scrape\n",
        "pages = range(1, 46)\n",
        "\n",
        "# Create a list of stop words to filter out\n",
        "stop_words = ['to', 'the', 'i', 'a', 'and', 'of', 'for', 'in', 'I', 'they', 'have', 'my', 'on', 'that', 'you', 'is', 'Humana', 'not', 'Original',\n",
        "              'review', 'with', 'me', 'this', 'was', 'had', 'are', 'be', 'get', 'review:', 'as', 'but', 'their', 'do', 'or', 'They', 'been', 'your',\n",
        "              'an', 'out', 'The', 'because', 'if', 'some', 'can', 'them', 'up', 'will', 'over', 'from', 'it', 'company', \"don't\",\n",
        "              'all', 'by', 'said', 'when', 'same', 'go', 'one', 'later', 'at', 'before', 'like']\n",
        "\n",
        "# Create an empty dictionary to count the number of times each word appears\n",
        "word_counts = {}\n",
        "\n",
        "# Use a loop to iterate over the pages\n",
        "for page in pages:\n",
        "    # Set the URL of the page you want to scrape\n",
        "    url = base_url + \"?page=2#scroll_to_reviews=true\"\n",
        "\n",
        "    # Use requests to get the HTML of the page\n",
        "    response = requests.get(url)\n",
        "\n",
        "    # Use BeautifulSoup to parse the HTML\n",
        "    soup = BeautifulSoup(response.text, 'html.parser')\n",
        "\n",
        "    # Extract the reviews from the HTML using BeautifulSoup\n",
        "    reviews = soup.find_all('div', class_='rvw-bd')\n",
        "\n",
        "    # Loop over the reviews and count the number of times each word appears\n",
        "    for review in reviews:\n",
        "        # Split the review text into a list of words\n",
        "        words = review.text.split()\n",
        "\n",
        "        # Loop over the words and count the number of times each word appears\n",
        "        for word in words:\n",
        "            # If the word is not in the list of stop words, add it to the dictionary or increment its count\n",
        "            if word not in stop_words:\n",
        "                if word not in word_counts:\n",
        "                    word_counts[word] = 1\n",
        "                else:\n",
        "                    word_counts[word] += 1\n",
        "\n",
        "# Sort the dictionary by the number of times each word appears\n",
        "sorted_word_counts = sorted(word_counts.items(), key=lambda x: x[1], reverse=True)\n",
        "\n",
        "# Print the top 10 most frequently used words\n",
        "print(sorted_word_counts[:10])"
      ],
      "metadata": {
        "colab": {
          "base_uri": "https://localhost:8080/"
        },
        "id": "ixc_jxUcg0Zu",
        "outputId": "4b4c7f01-2579-49eb-905c-50694651697a"
      },
      "execution_count": 30,
      "outputs": [
        {
          "output_type": "stream",
          "name": "stdout",
          "text": [
            "[('called', 675), ('office', 675), ('Aug.', 675), ('dental', 630), ('insurance', 585), ('pay', 585), ('customer', 450), ('denied', 450), ('dentist', 450), ('change', 405)]\n"
          ]
        }
      ]
    }
  ]
}